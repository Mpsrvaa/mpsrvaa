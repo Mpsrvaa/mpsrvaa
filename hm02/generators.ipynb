{
 "cells": [
  {
   "cell_type": "code",
   "execution_count": 2,
   "id": "af23ebe7",
   "metadata": {},
   "outputs": [
    {
     "name": "stdout",
     "output_type": "stream",
     "text": [
      "[(0, 'MAI'), (1, 'Lambda'), (2, 'Python')]\n",
      "[(0, 'H'), (1, 'e'), (2, 'l'), (3, 'l'), (4, 'o'), (5, ' '), (6, 'M'), (7, 'A'), (8, 'I'), (9, '!')]\n"
     ]
    }
   ],
   "source": [
    "def own_enumerate(arr):\n",
    "    a = 0\n",
    "    for i in arr:\n",
    "        b = (a, i)\n",
    "        yield b\n",
    "        a += 1\n",
    "        pass\n",
    "\n",
    "print(list(own_enumerate(['MAI', 'Lambda', 'Python'])))\n",
    "print(list(own_enumerate('Hello MAI!')))"
   ]
  },
  {
   "cell_type": "code",
   "execution_count": 3,
   "id": "d764675f",
   "metadata": {},
   "outputs": [
    {
     "name": "stdout",
     "output_type": "stream",
     "text": [
      "[('M', 'L'), ('A', 'a'), ('I', 'm')]\n",
      "[('H', 5), ('e', 1), ('l', 0), ('l', 5)]\n"
     ]
    }
   ],
   "source": [
    "def own_zip(a, b):\n",
    "    if len(a) > len(b):\n",
    "        length = len(b)\n",
    "    else:\n",
    "        length = len(a)\n",
    "    for i in range (0, length):\n",
    "        n = (a[i], b[i])\n",
    "        yield n\n",
    "        pass\n",
    "\n",
    "print(list(own_zip('MAI', 'Lambda')))\n",
    "print(list(own_zip('Hello', [5, 1, 0, 5])))\n"
   ]
  }
 ],
 "metadata": {
  "kernelspec": {
   "display_name": "Python 3 (ipykernel)",
   "language": "python",
   "name": "python3"
  },
  "language_info": {
   "codemirror_mode": {
    "name": "ipython",
    "version": 3
   },
   "file_extension": ".py",
   "mimetype": "text/x-python",
   "name": "python",
   "nbconvert_exporter": "python",
   "pygments_lexer": "ipython3",
   "version": "3.9.7"
  }
 },
 "nbformat": 4,
 "nbformat_minor": 5
}
