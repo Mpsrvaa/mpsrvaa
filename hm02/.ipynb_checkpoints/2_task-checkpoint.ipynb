{
 "cells": [
  {
   "cell_type": "markdown",
   "id": "246424fe",
   "metadata": {},
   "source": [
    "# Самостоятельная работа #2\n",
    "### Задание 1\n",
    "\n",
    "Допишите функцию, которая принимает 2 числа, сравнивает между собой и возвращает наименьшее."
   ]
  },
  {
   "cell_type": "code",
   "execution_count": 17,
   "id": "1b225d18",
   "metadata": {},
   "outputs": [],
   "source": [
    "def sravneniye_dvuh_chisel(a,b: int) -> float:\n",
    "    if a > b:\n",
    "        return b\n",
    "    if b > a:\n",
    "        return a"
   ]
  },
  {
   "cell_type": "code",
   "execution_count": 19,
   "id": "0e9f9cd3",
   "metadata": {},
   "outputs": [
    {
     "data": {
      "text/plain": [
       "2"
      ]
     },
     "execution_count": 19,
     "metadata": {},
     "output_type": "execute_result"
    }
   ],
   "source": [
    "a = 2\n",
    "b = 6\n",
    "sravneniye_dvuh_chisel(a,b)"
   ]
  },
  {
   "cell_type": "markdown",
   "id": "9342d85f",
   "metadata": {},
   "source": [
    "### Задание 2\n",
    "\n",
    "Допишите функцию, которая принимает 3 числа, сравнивает между собой и возвращает наименьшее."
   ]
  },
  {
   "cell_type": "code",
   "execution_count": 21,
   "id": "5371aa95",
   "metadata": {},
   "outputs": [],
   "source": [
    "def sravneniye_treh_chisel(a,b,c: int) -> float:\n",
    "    if a < (b and c):\n",
    "        return a\n",
    "    if b < (a and c):\n",
    "        return b\n",
    "    if c < (a and b):\n",
    "        return c"
   ]
  },
  {
   "cell_type": "code",
   "execution_count": 23,
   "id": "30bd9146",
   "metadata": {},
   "outputs": [
    {
     "data": {
      "text/plain": [
       "4"
      ]
     },
     "execution_count": 23,
     "metadata": {},
     "output_type": "execute_result"
    }
   ],
   "source": [
    "a = 9\n",
    "b = 6\n",
    "c = 4\n",
    "sravneniye_treh_chisel(a,b,c)"
   ]
  },
  {
   "cell_type": "markdown",
   "id": "9ef85dfd",
   "metadata": {},
   "source": [
    "### Задание 2\n",
    "\n",
    "Допишите функцию, которая принимает 3 числа, сравнивает между собой и возвращает количество совпадающих чисел. Соответственно, программа может возвращать одно из трех чисел: 3 - если совпадают все, 2 - если совпадают 2 числа, 0 - если все числа различны."
   ]
  },
  {
   "cell_type": "code",
   "execution_count": 51,
   "id": "ec6a169c",
   "metadata": {},
   "outputs": [],
   "source": [
    "def sovpadenye_chisel(a,b,c: int) -> float:\n",
    "    sum = 0\n",
    "    if a == b == c:\n",
    "        sum = 3\n",
    "    elif a == b or a == c or b == c:\n",
    "        sum = 2\n",
    "    else:\n",
    "        sum = 0\n",
    "    return sum"
   ]
  },
  {
   "cell_type": "code",
   "execution_count": 55,
   "id": "950d2a03",
   "metadata": {},
   "outputs": [
    {
     "data": {
      "text/plain": [
       "3"
      ]
     },
     "execution_count": 55,
     "metadata": {},
     "output_type": "execute_result"
    }
   ],
   "source": [
    "a = 1\n",
    "b = 1\n",
    "c = 1\n",
    "sovpadenye_chisel(a,b,c)"
   ]
  }
 ],
 "metadata": {
  "kernelspec": {
   "display_name": "Python 3 (ipykernel)",
   "language": "python",
   "name": "python3"
  },
  "language_info": {
   "codemirror_mode": {
    "name": "ipython",
    "version": 3
   },
   "file_extension": ".py",
   "mimetype": "text/x-python",
   "name": "python",
   "nbconvert_exporter": "python",
   "pygments_lexer": "ipython3",
   "version": "3.9.7"
  }
 },
 "nbformat": 4,
 "nbformat_minor": 5
}
